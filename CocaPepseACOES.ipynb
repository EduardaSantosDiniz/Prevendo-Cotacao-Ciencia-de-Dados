{
  "nbformat": 4,
  "nbformat_minor": 0,
  "metadata": {
    "colab": {
      "provenance": [],
      "authorship_tag": "ABX9TyPb8XQCIwoxjOuUB1eq6Whk",
      "include_colab_link": true
    },
    "kernelspec": {
      "name": "python3",
      "display_name": "Python 3"
    },
    "language_info": {
      "name": "python"
    }
  },
  "cells": [
    {
      "cell_type": "markdown",
      "metadata": {
        "id": "view-in-github",
        "colab_type": "text"
      },
      "source": [
        "<a href=\"https://colab.research.google.com/github/EduardaSantosDiniz/Prevendo-Cotacao-Ciencia-de-Dados/blob/main/CocaPepseACOES.ipynb\" target=\"_parent\"><img src=\"https://colab.research.google.com/assets/colab-badge.svg\" alt=\"Open In Colab\"/></a>"
      ]
    },
    {
      "cell_type": "code",
      "source": [
        "import pandas as pd\n",
        "\n",
        "dataset = pd.read_csv('/content/KO_stock_price.csv')\n",
        "\n",
        "print(dataset.head())\n"
      ],
      "metadata": {
        "colab": {
          "base_uri": "https://localhost:8080/"
        },
        "id": "YRxg0kMuaCJJ",
        "outputId": "bac52697-5908-48ce-c5a7-5d71f88cbdbd"
      },
      "execution_count": 8,
      "outputs": [
        {
          "output_type": "stream",
          "name": "stdout",
          "text": [
            "         Date  Open Price  High Price  Low Price  Close Price     Volume\n",
            "0  1999-11-01       58.25       59.38      57.88        59.00  4212600.0\n",
            "1  1999-11-02       58.63       58.94      57.31        57.75  3226800.0\n",
            "2  1999-11-03       57.19       57.75      56.06        56.88  3958700.0\n",
            "3  1999-11-04       57.50       57.50      56.06        56.69  3768500.0\n",
            "4  1999-11-05       57.94       58.44      57.63        58.13  4104800.0\n"
          ]
        }
      ]
    }
  ]
}